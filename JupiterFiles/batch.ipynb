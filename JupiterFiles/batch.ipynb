{
 "cells": [
  {
   "cell_type": "code",
   "execution_count": 1,
   "metadata": {
    "collapsed": true,
    "pycharm": {
     "name": "#%%\n"
    }
   },
   "outputs": [],
   "source": [
    "from multilayer_perceptron import MultilayerPerceptron\n",
    "import fonts\n",
    "import numpy as np\n",
    "import matplotlib.pyplot as plt"
   ]
  },
  {
   "cell_type": "code",
   "execution_count": null,
   "outputs": [],
   "source": [
    "fonts = fonts.get_fonts()\n",
    "layers = np.array([len(fonts[0]), 20, 10, 2, 10, 20, len(fonts[0])])\n",
    "learning_rate = 0.0005\n",
    "epochs = 20000\n",
    "\n",
    "perceptron = MultilayerPerceptron(fonts, fonts, learning_rate, layers, batch_size=fonts.size)\n",
    "\n",
    "perceptron.train(epochs)"
   ],
   "metadata": {
    "collapsed": false,
    "pycharm": {
     "name": "#%%\n"
    }
   }
  }
 ],
 "metadata": {
  "kernelspec": {
   "display_name": "Python 3",
   "language": "python",
   "name": "python3"
  },
  "language_info": {
   "codemirror_mode": {
    "name": "ipython",
    "version": 2
   },
   "file_extension": ".py",
   "mimetype": "text/x-python",
   "name": "python",
   "nbconvert_exporter": "python",
   "pygments_lexer": "ipython2",
   "version": "2.7.6"
  }
 },
 "nbformat": 4,
 "nbformat_minor": 0
}